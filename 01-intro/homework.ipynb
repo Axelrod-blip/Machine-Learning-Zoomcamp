{
 "cells": [
  {
   "cell_type": "code",
   "execution_count": 18,
   "id": "612183b8-c071-4c67-bb44-71692e3f2bb7",
   "metadata": {},
   "outputs": [],
   "source": [
    "import pandas as pd\n",
    "import numpy as np\n",
    "from sklearn.linear_model import LinearRegression\n",
    "from sklearn.metrics import mean_squared_error\n",
    "from sklearn.linear_model import Ridge\n",
    "from sklearn.model_selection import train_test_split\n",
    "\n",
    "\n",
    "\n",
    "\n",
    "\n",
    "\n"
   ]
  },
  {
   "cell_type": "code",
   "execution_count": 3,
   "id": "c2691b9f-2475-407e-89b1-760ea1f1f9b0",
   "metadata": {},
   "outputs": [],
   "source": [
    "df = pd.read_csv('https://raw.githubusercontent.com/alexeygrigorev/datasets/master/laptops.csv')"
   ]
  },
  {
   "cell_type": "code",
   "execution_count": 5,
   "id": "5747d285-9602-4aee-9033-1de4509de344",
   "metadata": {},
   "outputs": [],
   "source": [
    "df.columns = df.columns.str.lower().str.replace(' ', '_')"
   ]
  },
  {
   "cell_type": "code",
   "execution_count": 12,
   "id": "37a059e6-6fcf-4891-8b16-85f2e55817ff",
   "metadata": {},
   "outputs": [],
   "source": [
    "missing_values = df.isna().sum()\n"
   ]
  },
  {
   "cell_type": "code",
   "execution_count": 13,
   "id": "4728d841-4784-4359-9c1d-8e883b0fdee4",
   "metadata": {},
   "outputs": [
    {
     "name": "stdout",
     "output_type": "stream",
     "text": [
      "storage_type      42\n",
      "gpu             1371\n",
      "screen             4\n",
      "dtype: int64\n"
     ]
    }
   ],
   "source": [
    "columns_with_missing = missing_values[missing_values > 0]\n",
    "print(columns_with_missing)"
   ]
  },
  {
   "cell_type": "code",
   "execution_count": 14,
   "id": "3c5a6fc7-49f0-462d-919f-9c655436c694",
   "metadata": {},
   "outputs": [
    {
     "name": "stdout",
     "output_type": "stream",
     "text": [
      "16.0\n"
     ]
    }
   ],
   "source": [
    "median_value = df['ram'].median()\n",
    "print(median_value)\n"
   ]
  },
  {
   "cell_type": "code",
   "execution_count": 17,
   "id": "84366d5b-d057-48bd-81bf-c641e2677454",
   "metadata": {},
   "outputs": [
    {
     "name": "stdout",
     "output_type": "stream",
     "text": [
      "RMSE при заполнении нулями: 624.88\n",
      "RMSE при заполнении средним: 625.51\n"
     ]
    }
   ],
   "source": [
    "df_zero_filled = df.fillna(0)\n",
    "X = df_zero_filled[['ram', 'storage', 'screen']]\n",
    "y = df_zero_filled['final_price']\n",
    "\n",
    "from sklearn.model_selection import train_test_split\n",
    "X_train, X_val, y_train, y_val = train_test_split(X, y, test_size=0.2, random_state=42)\n",
    "\n",
    "model = LinearRegression()\n",
    "model.fit(X_train, y_train)\n",
    "\n",
    "y_pred = model.predict(X_val)\n",
    "\n",
    "rmse_zero = np.sqrt(mean_squared_error(y_val, y_pred))\n",
    "print('RMSE при заполнении нулями:', round(rmse_zero, 2))\n",
    "\n",
    "mean_values = X_train.mean()\n",
    "\n",
    "df_mean_filled = df.fillna(mean_values)\n",
    "\n",
    "X = df_mean_filled[['ram', 'storage', 'screen']]\n",
    "y = df_mean_filled['final_price']\n",
    "\n",
    "X_train, X_val, y_train, y_val = train_test_split(X, y, test_size=0.2, random_state=42)\n",
    "\n",
    "model = LinearRegression()\n",
    "model.fit(X_train, y_train)\n",
    "\n",
    "y_pred = model.predict(X_val)\n",
    "\n",
    "rmse_mean = np.sqrt(mean_squared_error(y_val, y_pred))\n",
    "print('RMSE при заполнении средним:', round(rmse_mean, 2))"
   ]
  },
  {
   "cell_type": "code",
   "execution_count": 20,
   "id": "02fac715-6a51-4745-af65-87b2a812aeb0",
   "metadata": {},
   "outputs": [
    {
     "name": "stdout",
     "output_type": "stream",
     "text": [
      "r = 0: RMSE = 624.88\n",
      "r = 0.01: RMSE = 624.88\n",
      "r = 0.1: RMSE = 624.88\n",
      "r = 1: RMSE = 624.88\n",
      "r = 5: RMSE = 624.88\n",
      "r = 10: RMSE = 624.87\n",
      "r = 100: RMSE = 624.84\n"
     ]
    }
   ],
   "source": [
    "df_zero_filled = df.fillna(0)\n",
    "X = df_zero_filled[['ram', 'storage', 'screen']]\n",
    "y = df_zero_filled['final_price']\n",
    "\n",
    "X_train, X_val, y_train, y_val = train_test_split(X, y, test_size=0.2, random_state=42)\n",
    "\n",
    "r_values = [0, 0.01, 0.1, 1, 5, 10, 100]\n",
    "\n",
    "\n",
    "rmse_values = []\n",
    "\n",
    "\n",
    "for r in r_values:\n",
    "    # Создаем модель Ridge-регрессии с текущим r\n",
    "    model = Ridge(alpha=r)\n",
    "    \n",
    "    # Обучаем модель\n",
    "    model.fit(X_train, y_train)\n",
    "    \n",
    "    # Прогнозируем на валидационном наборе\n",
    "    y_pred = model.predict(X_val)\n",
    "    \n",
    "    # Вычисляем RMSE\n",
    "    rmse = np.sqrt(mean_squared_error(y_val, y_pred))\n",
    "    \n",
    "    # Сохраняем результат\n",
    "    rmse_values.append((r, round(rmse, 2)))\n",
    "\n",
    "# Выводим результаты\n",
    "for r, rmse in rmse_values:\n",
    "    print(f'r = {r}: RMSE = {rmse}')"
   ]
  },
  {
   "cell_type": "code",
   "execution_count": 21,
   "id": "a2960f54-7a7a-4ec8-b4f5-94349714203d",
   "metadata": {},
   "outputs": [
    {
     "name": "stdout",
     "output_type": "stream",
     "text": [
      "RMSE на тестовом наборе: 535.08\n"
     ]
    }
   ],
   "source": [
    "df_zero_filled = df.fillna(0)\n",
    "\n",
    "# Разделяем данные на тренировочные+валидационные и тестовые (60%/40%)\n",
    "X = df_zero_filled[['ram', 'storage', 'screen']]\n",
    "y = df_zero_filled['final_price']\n",
    "\n",
    "X_train_val, X_test, y_train_val, y_test = train_test_split(X, y, test_size=0.2, random_state=9)\n",
    "\n",
    "model = Ridge(alpha=0.001)\n",
    "\n",
    "# Обучаем модель на тренировочных+валидационных данных\n",
    "model.fit(X_train_val, y_train_val)\n",
    "\n",
    "# Прогнозируем на тестовом наборе\n",
    "y_pred_test = model.predict(X_test)\n",
    "\n",
    "# Вычисляем RMSE на тестовом наборе\n",
    "rmse_test = np.sqrt(mean_squared_error(y_test, y_pred_test))\n",
    "print('RMSE на тестовом наборе:', round(rmse_test, 2))"
   ]
  },
  {
   "cell_type": "code",
   "execution_count": 22,
   "id": "ff593f9f-c2e2-4b5f-8c50-709e5e740da9",
   "metadata": {},
   "outputs": [
    {
     "name": "stdout",
     "output_type": "stream",
     "text": [
      "Стандартное отклонение RMSE: 27.313\n"
     ]
    }
   ],
   "source": [
    "seeds = [0, 1, 2, 3, 4, 5, 6, 7, 8, 9]\n",
    "\n",
    "# Для хранения RMSE\n",
    "rmse_values = []\n",
    "\n",
    "# Заполняем пропуски нулями\n",
    "df_zero_filled = df.fillna(0)\n",
    "\n",
    "# Разделяем признаки и целевую переменную\n",
    "X = df_zero_filled[['ram', 'storage', 'screen']]\n",
    "y = df_zero_filled['final_price']\n",
    "\n",
    "# Перебираем значения seed\n",
    "for seed in seeds:\n",
    "    # Разделяем данные на train, val и test (60%/20%/20%)\n",
    "    X_train, X_val, y_train, y_val = train_test_split(X, y, test_size=0.2, random_state=seed)\n",
    "    \n",
    "    # Создаем модель линейной регрессии\n",
    "    model = LinearRegression()\n",
    "    \n",
    "    # Обучаем модель на тренировочном наборе\n",
    "    model.fit(X_train, y_train)\n",
    "    \n",
    "    # Прогнозируем на валидационном наборе\n",
    "    y_pred_val = model.predict(X_val)\n",
    "    \n",
    "    # Вычисляем RMSE и сохраняем\n",
    "    rmse = np.sqrt(mean_squared_error(y_val, y_pred_val))\n",
    "    rmse_values.append(rmse)\n",
    "\n",
    "# Вычисляем стандартное отклонение RMSE\n",
    "rmse_std = np.std(rmse_values)\n",
    "print('Стандартное отклонение RMSE:', round(rmse_std, 3))"
   ]
  },
  {
   "cell_type": "code",
   "execution_count": null,
   "id": "c7a7499c-f8b7-4641-a4ce-09da604f4e5d",
   "metadata": {},
   "outputs": [],
   "source": []
  }
 ],
 "metadata": {
  "kernelspec": {
   "display_name": "Python 3 (ipykernel)",
   "language": "python",
   "name": "python3"
  },
  "language_info": {
   "codemirror_mode": {
    "name": "ipython",
    "version": 3
   },
   "file_extension": ".py",
   "mimetype": "text/x-python",
   "name": "python",
   "nbconvert_exporter": "python",
   "pygments_lexer": "ipython3",
   "version": "3.12.1"
  }
 },
 "nbformat": 4,
 "nbformat_minor": 5
}
